{
 "cells": [
  {
   "cell_type": "markdown",
   "metadata": {},
   "source": [
    "## Quick Start Tutorial - Distinctiveness Centrality (Python)\n",
    "**More info here https://github.com/iandreafc/distinctiveness-centrality**"
   ]
  },
  {
   "cell_type": "markdown",
   "metadata": {},
   "source": [
    "### Installation\n",
    "``` python\n",
    "pip install distinctiveness\n",
    "```"
   ]
  },
  {
   "cell_type": "code",
   "execution_count": 1,
   "metadata": {},
   "outputs": [],
   "source": [
    "# Import\n",
    "from distinctiveness.dc import dc_all\n",
    "\n",
    "#Import Networkx and Pandas\n",
    "import networkx as nx\n",
    "import pandas as pd"
   ]
  },
  {
   "cell_type": "markdown",
   "metadata": {},
   "source": [
    "### Undirected graphs"
   ]
  },
  {
   "cell_type": "code",
   "execution_count": 2,
   "metadata": {},
   "outputs": [
    {
     "data": {
      "text/plain": [
       "{('A', 'E'): Text(0.48552110951127925, 0.781124507265114, '5'),\n",
       " ('A', 'B'): Text(0.1797995393368887, 0.18274249678492535, '2'),\n",
       " ('B', 'F'): Text(0.1592451295142533, -0.37211936848374727, '5'),\n",
       " ('B', 'C'): Text(-0.3586038458728215, -0.21503647849253207, '2'),\n",
       " ('B', 'D'): Text(-0.3071922419788152, -0.39073268124921134, '2'),\n",
       " ('C', 'D'): Text(-0.6447662390255323, -0.40900513878136624, '5')}"
      ]
     },
     "execution_count": 2,
     "metadata": {},
     "output_type": "execute_result"
    },
    {
     "data": {
      "image/png": "[encoded data removed]",
      "text/plain": [
       "<Figure size 432x288 with 1 Axes>"
      ]
     },
     "metadata": {},
     "output_type": "display_data"
    }
   ],
   "source": [
    "#Create a Toy Network\n",
    "G= nx.Graph()\n",
    "G.add_edge(\"A\",\"E\", weight = 5)\n",
    "G.add_edge(\"A\",\"B\", weight = 2)\n",
    "G.add_edge(\"B\",\"F\", weight = 5)\n",
    "G.add_edge(\"B\",\"C\", weight = 2)\n",
    "G.add_edge(\"B\",\"D\", weight = 2)\n",
    "G.add_edge(\"C\",\"D\", weight = 5)\n",
    "pos = nx.spring_layout(G)\n",
    "labels = nx.get_edge_attributes(G,'weight')\n",
    "nx.draw(G,pos=pos,with_labels = True,node_color='#00c0ff')\n",
    "nx.draw_networkx_edge_labels(G,pos,edge_labels=labels)"
   ]
  },
  {
   "cell_type": "code",
   "execution_count": 3,
   "metadata": {},
   "outputs": [
    {
     "data": {
      "text/html": [
       "<div>\n",
       "<style scoped>\n",
       "    .dataframe tbody tr th:only-of-type {\n",
       "        vertical-align: middle;\n",
       "    }\n",
       "\n",
       "    .dataframe tbody tr th {\n",
       "        vertical-align: top;\n",
       "    }\n",
       "\n",
       "    .dataframe thead th {\n",
       "        text-align: right;\n",
       "    }\n",
       "</style>\n",
       "<table border=\"1\" class=\"dataframe\">\n",
       "  <thead>\n",
       "    <tr style=\"text-align: right;\">\n",
       "      <th></th>\n",
       "      <th>D1</th>\n",
       "      <th>D2</th>\n",
       "      <th>D3</th>\n",
       "      <th>D4</th>\n",
       "      <th>D5</th>\n",
       "      <th>D1_in</th>\n",
       "      <th>D2_in</th>\n",
       "      <th>D3_in</th>\n",
       "      <th>D4_in</th>\n",
       "      <th>D5_in</th>\n",
       "      <th>D1_out</th>\n",
       "      <th>D2_out</th>\n",
       "      <th>D3_out</th>\n",
       "      <th>D4_out</th>\n",
       "      <th>D5_out</th>\n",
       "    </tr>\n",
       "  </thead>\n",
       "  <tbody>\n",
       "    <tr>\n",
       "      <th>A</th>\n",
       "      <td>3.68867</td>\n",
       "      <td>0.79588</td>\n",
       "      <td>7.255535</td>\n",
       "      <td>5.363636</td>\n",
       "      <td>1.25</td>\n",
       "      <td>NaN</td>\n",
       "      <td>NaN</td>\n",
       "      <td>NaN</td>\n",
       "      <td>NaN</td>\n",
       "      <td>NaN</td>\n",
       "      <td>NaN</td>\n",
       "      <td>NaN</td>\n",
       "      <td>NaN</td>\n",
       "      <td>NaN</td>\n",
       "      <td>NaN</td>\n",
       "    </tr>\n",
       "    <tr>\n",
       "      <th>B</th>\n",
       "      <td>5.88249</td>\n",
       "      <td>1.89279</td>\n",
       "      <td>9.875505</td>\n",
       "      <td>6.714286</td>\n",
       "      <td>2.50</td>\n",
       "      <td>NaN</td>\n",
       "      <td>NaN</td>\n",
       "      <td>NaN</td>\n",
       "      <td>NaN</td>\n",
       "      <td>NaN</td>\n",
       "      <td>NaN</td>\n",
       "      <td>NaN</td>\n",
       "      <td>NaN</td>\n",
       "      <td>NaN</td>\n",
       "      <td>NaN</td>\n",
       "    </tr>\n",
       "    <tr>\n",
       "      <th>C</th>\n",
       "      <td>2.18352</td>\n",
       "      <td>0.49485</td>\n",
       "      <td>4.869929</td>\n",
       "      <td>3.935065</td>\n",
       "      <td>0.75</td>\n",
       "      <td>NaN</td>\n",
       "      <td>NaN</td>\n",
       "      <td>NaN</td>\n",
       "      <td>NaN</td>\n",
       "      <td>NaN</td>\n",
       "      <td>NaN</td>\n",
       "      <td>NaN</td>\n",
       "      <td>NaN</td>\n",
       "      <td>NaN</td>\n",
       "      <td>NaN</td>\n",
       "    </tr>\n",
       "    <tr>\n",
       "      <th>D</th>\n",
       "      <td>2.18352</td>\n",
       "      <td>0.49485</td>\n",
       "      <td>4.869929</td>\n",
       "      <td>3.935065</td>\n",
       "      <td>0.75</td>\n",
       "      <td>NaN</td>\n",
       "      <td>NaN</td>\n",
       "      <td>NaN</td>\n",
       "      <td>NaN</td>\n",
       "      <td>NaN</td>\n",
       "      <td>NaN</td>\n",
       "      <td>NaN</td>\n",
       "      <td>NaN</td>\n",
       "      <td>NaN</td>\n",
       "      <td>NaN</td>\n",
       "    </tr>\n",
       "    <tr>\n",
       "      <th>E</th>\n",
       "      <td>1.98970</td>\n",
       "      <td>0.39794</td>\n",
       "      <td>4.225490</td>\n",
       "      <td>3.571429</td>\n",
       "      <td>0.50</td>\n",
       "      <td>NaN</td>\n",
       "      <td>NaN</td>\n",
       "      <td>NaN</td>\n",
       "      <td>NaN</td>\n",
       "      <td>NaN</td>\n",
       "      <td>NaN</td>\n",
       "      <td>NaN</td>\n",
       "      <td>NaN</td>\n",
       "      <td>NaN</td>\n",
       "      <td>NaN</td>\n",
       "    </tr>\n",
       "    <tr>\n",
       "      <th>F</th>\n",
       "      <td>0.48455</td>\n",
       "      <td>0.09691</td>\n",
       "      <td>2.385606</td>\n",
       "      <td>2.272727</td>\n",
       "      <td>0.25</td>\n",
       "      <td>NaN</td>\n",
       "      <td>NaN</td>\n",
       "      <td>NaN</td>\n",
       "      <td>NaN</td>\n",
       "      <td>NaN</td>\n",
       "      <td>NaN</td>\n",
       "      <td>NaN</td>\n",
       "      <td>NaN</td>\n",
       "      <td>NaN</td>\n",
       "      <td>NaN</td>\n",
       "    </tr>\n",
       "  </tbody>\n",
       "</table>\n",
       "</div>"
      ],
      "text/plain": [
       "        D1       D2        D3        D4    D5  D1_in  D2_in  D3_in  D4_in  \\\n",
       "A  3.68867  0.79588  7.255535  5.363636  1.25    NaN    NaN    NaN    NaN   \n",
       "B  5.88249  1.89279  9.875505  6.714286  2.50    NaN    NaN    NaN    NaN   \n",
       "C  2.18352  0.49485  4.869929  3.935065  0.75    NaN    NaN    NaN    NaN   \n",
       "D  2.18352  0.49485  4.869929  3.935065  0.75    NaN    NaN    NaN    NaN   \n",
       "E  1.98970  0.39794  4.225490  3.571429  0.50    NaN    NaN    NaN    NaN   \n",
       "F  0.48455  0.09691  2.385606  2.272727  0.25    NaN    NaN    NaN    NaN   \n",
       "\n",
       "   D5_in  D1_out  D2_out  D3_out  D4_out  D5_out  \n",
       "A    NaN     NaN     NaN     NaN     NaN     NaN  \n",
       "B    NaN     NaN     NaN     NaN     NaN     NaN  \n",
       "C    NaN     NaN     NaN     NaN     NaN     NaN  \n",
       "D    NaN     NaN     NaN     NaN     NaN     NaN  \n",
       "E    NaN     NaN     NaN     NaN     NaN     NaN  \n",
       "F    NaN     NaN     NaN     NaN     NaN     NaN  "
      ]
     },
     "execution_count": 3,
     "metadata": {},
     "output_type": "execute_result"
    }
   ],
   "source": [
    "#Calculate the 5 metrics of Distinctiveness Centrality\n",
    "#If normalized == True, values are divided by their upper bound, to allow a comparison with different networks\n",
    "#alpha is a coefficient that can be increased to penalize more connections with high-degree nodes, default is alpha = 1\n",
    "DC = dc_all(G, normalize = False, alpha = 1)\n",
    "DC = pd.DataFrame(DC).sort_index()\n",
    "DC"
   ]
  },
  {
   "cell_type": "markdown",
   "metadata": {},
   "source": [
    "When alpha > 1 negative values are possible"
   ]
  },
  {
   "cell_type": "code",
   "execution_count": 4,
   "metadata": {},
   "outputs": [
    {
     "data": {
      "text/plain": [
       "{'A': 2.484550065040282,\n",
       " 'E': 0.4845500650402821,\n",
       " 'B': 4.076310099728433,\n",
       " 'F': -2.5257498915995296,\n",
       " 'C': -0.5257498915995298,\n",
       " 'D': -0.5257498915995298}"
      ]
     },
     "execution_count": 4,
     "metadata": {},
     "output_type": "execute_result"
    }
   ],
   "source": [
    "#Compute distinctiveness with alpha > 1\n",
    "DC = dc_all(G, normalize = False, alpha = 2)\n",
    "\n",
    "#Select one metric\n",
    "D1 = DC[\"D1\"]\n",
    "D1"
   ]
  },
  {
   "cell_type": "markdown",
   "metadata": {},
   "source": [
    "Metrics can be normalized to allow a comparison between different networks."
   ]
  },
  {
   "cell_type": "code",
   "execution_count": 5,
   "metadata": {},
   "outputs": [
    {
     "data": {
      "text/plain": [
       "{'A': 0.4518195845137618,\n",
       " 'E': 0.18977448064220231,\n",
       " 'B': 0.8610627101039761,\n",
       " 'F': 0.04621562795107132,\n",
       " 'C': 0.3082607318226308,\n",
       " 'D': 0.3082607318226308}"
      ]
     },
     "execution_count": 5,
     "metadata": {},
     "output_type": "execute_result"
    }
   ],
   "source": [
    "#When alpha > 1 negative values are possible\n",
    "DC = dc_all(G, normalize = True, alpha = 2)\n",
    "\n",
    "#Select one metric\n",
    "D1 = DC[\"D1\"]\n",
    "D1"
   ]
  },
  {
   "cell_type": "markdown",
   "metadata": {},
   "source": [
    "### Directed graphs"
   ]
  },
  {
   "cell_type": "code",
   "execution_count": 6,
   "metadata": {},
   "outputs": [
    {
     "data": {
      "text/plain": [
       "{('A', 'E'): Text(-0.022446493930112818, -0.7221578854322187, '5'),\n",
       " ('A', 'B'): Text(0.10694281664338864, -0.5149072721523582, '6'),\n",
       " ('B', 'A'): Text(-0.004820070350523092, -0.6090438532343383, '2'),\n",
       " ('B', 'F'): Text(0.32236493558490875, -0.03865722319016572, '5'),\n",
       " ('B', 'C'): Text(0.14419905202881278, 0.25495168970436444, '2'),\n",
       " ('B', 'D'): Text(-0.20016717043721216, 0.4693463560046407, '2'),\n",
       " ('C', 'D'): Text(-0.32434686283881176, 0.8570702224664825, '3'),\n",
       " ('D', 'C'): Text(-0.20955812201680343, 0.7856053336997237, '5')}"
      ]
     },
     "execution_count": 6,
     "metadata": {},
     "output_type": "execute_result"
    },
    {
     "data": {
      "image/png": "[encoded data removed]",
      "text/plain": [
       "<Figure size 432x288 with 1 Axes>"
      ]
     },
     "metadata": {},
     "output_type": "display_data"
    }
   ],
   "source": [
    "#Create a Toy Network\n",
    "G= nx.DiGraph()\n",
    "G.add_edge(\"A\",\"E\", weight = 5)\n",
    "G.add_edge(\"A\",\"B\", weight = 6)\n",
    "G.add_edge(\"B\",\"A\", weight = 2)\n",
    "G.add_edge(\"B\",\"F\", weight = 5)\n",
    "G.add_edge(\"B\",\"C\", weight = 2)\n",
    "G.add_edge(\"B\",\"D\", weight = 2)\n",
    "G.add_edge(\"C\",\"D\", weight = 3)\n",
    "G.add_edge(\"D\",\"C\", weight = 5)\n",
    "pos = nx.spiral_layout(G)\n",
    "labels = nx.get_edge_attributes(G,'weight')\n",
    "nx.draw(G,pos=pos,with_labels = True,node_color='#00c0ff')\n",
    "nx.draw_networkx_edge_labels(G,pos,edge_labels=labels, label_pos=0.4)"
   ]
  },
  {
   "cell_type": "code",
   "execution_count": 7,
   "metadata": {},
   "outputs": [
    {
     "data": {
      "text/html": [
       "<div>\n",
       "<style scoped>\n",
       "    .dataframe tbody tr th:only-of-type {\n",
       "        vertical-align: middle;\n",
       "    }\n",
       "\n",
       "    .dataframe tbody tr th {\n",
       "        vertical-align: top;\n",
       "    }\n",
       "\n",
       "    .dataframe thead th {\n",
       "        text-align: right;\n",
       "    }\n",
       "</style>\n",
       "<table border=\"1\" class=\"dataframe\">\n",
       "  <thead>\n",
       "    <tr style=\"text-align: right;\">\n",
       "      <th></th>\n",
       "      <th>D1</th>\n",
       "      <th>D2</th>\n",
       "      <th>D3</th>\n",
       "      <th>D4</th>\n",
       "      <th>D5</th>\n",
       "      <th>D1_in</th>\n",
       "      <th>D2_in</th>\n",
       "      <th>D3_in</th>\n",
       "      <th>D4_in</th>\n",
       "      <th>D5_in</th>\n",
       "      <th>D1_out</th>\n",
       "      <th>D2_out</th>\n",
       "      <th>D3_out</th>\n",
       "      <th>D4_out</th>\n",
       "      <th>D5_out</th>\n",
       "    </tr>\n",
       "  </thead>\n",
       "  <tbody>\n",
       "    <tr>\n",
       "      <th>A</th>\n",
       "      <td>NaN</td>\n",
       "      <td>NaN</td>\n",
       "      <td>NaN</td>\n",
       "      <td>NaN</td>\n",
       "      <td>NaN</td>\n",
       "      <td>-1.01030</td>\n",
       "      <td>-0.50515</td>\n",
       "      <td>-0.108715</td>\n",
       "      <td>0.216216</td>\n",
       "      <td>0.0625</td>\n",
       "      <td>7.68867</td>\n",
       "      <td>1.39794</td>\n",
       "      <td>16.248334</td>\n",
       "      <td>11.000000</td>\n",
       "      <td>2.00</td>\n",
       "    </tr>\n",
       "    <tr>\n",
       "      <th>B</th>\n",
       "      <td>NaN</td>\n",
       "      <td>NaN</td>\n",
       "      <td>NaN</td>\n",
       "      <td>NaN</td>\n",
       "      <td>NaN</td>\n",
       "      <td>0.58146</td>\n",
       "      <td>0.09691</td>\n",
       "      <td>0.372887</td>\n",
       "      <td>3.540984</td>\n",
       "      <td>0.2500</td>\n",
       "      <td>5.28043</td>\n",
       "      <td>1.59176</td>\n",
       "      <td>11.418387</td>\n",
       "      <td>7.891247</td>\n",
       "      <td>2.50</td>\n",
       "    </tr>\n",
       "    <tr>\n",
       "      <th>C</th>\n",
       "      <td>NaN</td>\n",
       "      <td>NaN</td>\n",
       "      <td>NaN</td>\n",
       "      <td>NaN</td>\n",
       "      <td>NaN</td>\n",
       "      <td>2.48455</td>\n",
       "      <td>0.19382</td>\n",
       "      <td>7.276891</td>\n",
       "      <td>5.216216</td>\n",
       "      <td>1.0625</td>\n",
       "      <td>0.29073</td>\n",
       "      <td>0.09691</td>\n",
       "      <td>2.334454</td>\n",
       "      <td>2.076923</td>\n",
       "      <td>0.25</td>\n",
       "    </tr>\n",
       "    <tr>\n",
       "      <th>D</th>\n",
       "      <td>NaN</td>\n",
       "      <td>NaN</td>\n",
       "      <td>NaN</td>\n",
       "      <td>NaN</td>\n",
       "      <td>NaN</td>\n",
       "      <td>1.08661</td>\n",
       "      <td>0.19382</td>\n",
       "      <td>4.322648</td>\n",
       "      <td>3.216216</td>\n",
       "      <td>1.0625</td>\n",
       "      <td>0.48455</td>\n",
       "      <td>0.09691</td>\n",
       "      <td>3.890756</td>\n",
       "      <td>4.310345</td>\n",
       "      <td>0.25</td>\n",
       "    </tr>\n",
       "    <tr>\n",
       "      <th>E</th>\n",
       "      <td>NaN</td>\n",
       "      <td>NaN</td>\n",
       "      <td>NaN</td>\n",
       "      <td>NaN</td>\n",
       "      <td>NaN</td>\n",
       "      <td>0.48455</td>\n",
       "      <td>0.09691</td>\n",
       "      <td>-0.455402</td>\n",
       "      <td>2.049180</td>\n",
       "      <td>0.2500</td>\n",
       "      <td>0.00000</td>\n",
       "      <td>0.00000</td>\n",
       "      <td>0.000000</td>\n",
       "      <td>0.000000</td>\n",
       "      <td>0.00</td>\n",
       "    </tr>\n",
       "    <tr>\n",
       "      <th>F</th>\n",
       "      <td>NaN</td>\n",
       "      <td>NaN</td>\n",
       "      <td>NaN</td>\n",
       "      <td>NaN</td>\n",
       "      <td>NaN</td>\n",
       "      <td>-2.52575</td>\n",
       "      <td>-0.50515</td>\n",
       "      <td>1.815890</td>\n",
       "      <td>3.378378</td>\n",
       "      <td>0.0625</td>\n",
       "      <td>0.00000</td>\n",
       "      <td>0.00000</td>\n",
       "      <td>0.000000</td>\n",
       "      <td>0.000000</td>\n",
       "      <td>0.00</td>\n",
       "    </tr>\n",
       "  </tbody>\n",
       "</table>\n",
       "</div>"
      ],
      "text/plain": [
       "   D1  D2  D3  D4  D5    D1_in    D2_in     D3_in     D4_in   D5_in   D1_out  \\\n",
       "A NaN NaN NaN NaN NaN -1.01030 -0.50515 -0.108715  0.216216  0.0625  7.68867   \n",
       "B NaN NaN NaN NaN NaN  0.58146  0.09691  0.372887  3.540984  0.2500  5.28043   \n",
       "C NaN NaN NaN NaN NaN  2.48455  0.19382  7.276891  5.216216  1.0625  0.29073   \n",
       "D NaN NaN NaN NaN NaN  1.08661  0.19382  4.322648  3.216216  1.0625  0.48455   \n",
       "E NaN NaN NaN NaN NaN  0.48455  0.09691 -0.455402  2.049180  0.2500  0.00000   \n",
       "F NaN NaN NaN NaN NaN -2.52575 -0.50515  1.815890  3.378378  0.0625  0.00000   \n",
       "\n",
       "    D2_out     D3_out     D4_out  D5_out  \n",
       "A  1.39794  16.248334  11.000000    2.00  \n",
       "B  1.59176  11.418387   7.891247    2.50  \n",
       "C  0.09691   2.334454   2.076923    0.25  \n",
       "D  0.09691   3.890756   4.310345    0.25  \n",
       "E  0.00000   0.000000   0.000000    0.00  \n",
       "F  0.00000   0.000000   0.000000    0.00  "
      ]
     },
     "execution_count": 7,
     "metadata": {},
     "output_type": "execute_result"
    }
   ],
   "source": [
    "#In directed graphs each metric has an '_in' and '_out' suffix (see the docs)\n",
    "DC = dc_all(G, normalize = False, alpha = 2)\n",
    "DC = pd.DataFrame(DC).sort_index()\n",
    "DC"
   ]
  }
 ],
 "metadata": {
  "kernelspec": {
   "display_name": "Python 3",
   "language": "python",
   "name": "python3"
  },
  "language_info": {
   "codemirror_mode": {
    "name": "ipython",
    "version": 3
   },
   "file_extension": ".py",
   "mimetype": "text/x-python",
   "name": "python",
   "nbconvert_exporter": "python",
   "pygments_lexer": "ipython3",
   "version": "3.7.4"
  }
 },
 "nbformat": 4,
 "nbformat_minor": 2
}
