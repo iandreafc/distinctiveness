{
 "cells": [
  {
   "cell_type": "markdown",
   "metadata": {},
   "source": [
    "## Quick Start Tutorial - Distinctiveness Centrality (Python)\n",
    "**More info here https://github.com/iandreafc/distinctiveness**"
   ]
  },
  {
   "cell_type": "markdown",
   "metadata": {},
   "source": [
    "### Installation\n",
    "``` python\n",
    "pip install -U distinctiveness\n",
    "```"
   ]
  },
  {
   "cell_type": "code",
   "execution_count": 1,
   "metadata": {},
   "outputs": [],
   "source": [
    "# Import distinctiveness\n",
    "from distinctiveness.dc import distinctiveness\n",
    "\n",
    "#Import Networkx and Pandas\n",
    "import networkx as nx\n",
    "import pandas as pd"
   ]
  },
  {
   "cell_type": "markdown",
   "metadata": {},
   "source": [
    "### Undirected graphs"
   ]
  },
  {
   "cell_type": "code",
   "execution_count": 2,
   "metadata": {},
   "outputs": [
    {
     "data": {
      "text/plain": [
       "{('A', 'E'): Text(0.7868557811635424, 0.30578341344823273, '5'),\n",
       " ('A', 'B'): Text(0.19871643036289516, 0.12625193736290974, '2'),\n",
       " ('B', 'F'): Text(-0.29818482112784916, 0.20120164712278646, '5'),\n",
       " ('B', 'C'): Text(-0.40416896021349213, -0.20821990375660082, '2'),\n",
       " ('B', 'D'): Text(-0.26078070142349546, -0.28866051705288226, '2'),\n",
       " ('C', 'D'): Text(-0.4886709600356931, -0.5069850605710194, '5')}"
      ]
     },
     "execution_count": 2,
     "metadata": {},
     "output_type": "execute_result"
    },
    {
     "data": {
      "image/png": "[encoded data removed]",
      "text/plain": [
       "<Figure size 432x288 with 1 Axes>"
      ]
     },
     "metadata": {},
     "output_type": "display_data"
    }
   ],
   "source": [
    "#Create a Toy Network\n",
    "G= nx.Graph()\n",
    "G.add_edge(\"A\",\"E\", weight = 5)\n",
    "G.add_edge(\"A\",\"B\", weight = 2)\n",
    "G.add_edge(\"B\",\"F\", weight = 5)\n",
    "G.add_edge(\"B\",\"C\", weight = 2)\n",
    "G.add_edge(\"B\",\"D\", weight = 2)\n",
    "G.add_edge(\"C\",\"D\", weight = 5)\n",
    "pos = nx.spring_layout(G)\n",
    "labels = nx.get_edge_attributes(G,'weight')\n",
    "nx.draw(G,pos=pos,with_labels = True,node_color='#00c0ff')\n",
    "nx.draw_networkx_edge_labels(G,pos,edge_labels=labels)"
   ]
  },
  {
   "cell_type": "code",
   "execution_count": 3,
   "metadata": {},
   "outputs": [
    {
     "data": {
      "text/plain": [
       "{'D1': {'A': 3.688670047696207,\n",
       "  'E': 1.989700043360188,\n",
       "  'B': 5.88249007371232,\n",
       "  'F': 0.4845500650402821,\n",
       "  'C': 2.183520069376301,\n",
       "  'D': 2.183520069376301},\n",
       " 'D2': {'A': 0.7958800173440753,\n",
       "  'E': 0.3979400086720376,\n",
       "  'B': 1.8927900303521317,\n",
       "  'F': 0.09691001300805642,\n",
       "  'C': 0.494850021680094,\n",
       "  'D': 0.494850021680094},\n",
       " 'D3': {'A': 7.255535063137435,\n",
       "  'E': 4.225490200071284,\n",
       "  'B': 9.875504739771252,\n",
       "  'F': 2.385606273598312,\n",
       "  'C': 4.869928789539122,\n",
       "  'D': 4.869928789539122},\n",
       " 'D4': {'A': 5.363636363636363,\n",
       "  'E': 3.5714285714285716,\n",
       "  'B': 6.7142857142857135,\n",
       "  'F': 2.2727272727272725,\n",
       "  'C': 3.9350649350649354,\n",
       "  'D': 3.9350649350649354},\n",
       " 'D5': {'A': 1.25, 'E': 0.5, 'B': 2.5, 'F': 0.25, 'C': 0.75, 'D': 0.75}}"
      ]
     },
     "execution_count": 3,
     "metadata": {},
     "output_type": "execute_result"
    }
   ],
   "source": [
    "#Calculate the 5 metrics of Distinctiveness Centrality\n",
    "#alpha is a coefficient that can be increased to penalize more connections with high-degree nodes, default is alpha = 1\n",
    "DC = distinctiveness(G, alpha = 1, normalize = False, measures = [\"D1\",\"D2\",\"D3\",\"D4\",\"D5\"])\n",
    "DC"
   ]
  },
  {
   "cell_type": "code",
   "execution_count": 4,
   "metadata": {},
   "outputs": [
    {
     "data": {
      "text/html": [
       "<div>\n",
       "<style scoped>\n",
       "    .dataframe tbody tr th:only-of-type {\n",
       "        vertical-align: middle;\n",
       "    }\n",
       "\n",
       "    .dataframe tbody tr th {\n",
       "        vertical-align: top;\n",
       "    }\n",
       "\n",
       "    .dataframe thead th {\n",
       "        text-align: right;\n",
       "    }\n",
       "</style>\n",
       "<table border=\"1\" class=\"dataframe\">\n",
       "  <thead>\n",
       "    <tr style=\"text-align: right;\">\n",
       "      <th></th>\n",
       "      <th>D1</th>\n",
       "      <th>D2</th>\n",
       "    </tr>\n",
       "  </thead>\n",
       "  <tbody>\n",
       "    <tr>\n",
       "      <th>A</th>\n",
       "      <td>3.68867</td>\n",
       "      <td>0.79588</td>\n",
       "    </tr>\n",
       "    <tr>\n",
       "      <th>B</th>\n",
       "      <td>5.88249</td>\n",
       "      <td>1.89279</td>\n",
       "    </tr>\n",
       "    <tr>\n",
       "      <th>C</th>\n",
       "      <td>2.18352</td>\n",
       "      <td>0.49485</td>\n",
       "    </tr>\n",
       "    <tr>\n",
       "      <th>D</th>\n",
       "      <td>2.18352</td>\n",
       "      <td>0.49485</td>\n",
       "    </tr>\n",
       "    <tr>\n",
       "      <th>E</th>\n",
       "      <td>1.98970</td>\n",
       "      <td>0.39794</td>\n",
       "    </tr>\n",
       "    <tr>\n",
       "      <th>F</th>\n",
       "      <td>0.48455</td>\n",
       "      <td>0.09691</td>\n",
       "    </tr>\n",
       "  </tbody>\n",
       "</table>\n",
       "</div>"
      ],
      "text/plain": [
       "        D1       D2\n",
       "A  3.68867  0.79588\n",
       "B  5.88249  1.89279\n",
       "C  2.18352  0.49485\n",
       "D  2.18352  0.49485\n",
       "E  1.98970  0.39794\n",
       "F  0.48455  0.09691"
      ]
     },
     "execution_count": 4,
     "metadata": {},
     "output_type": "execute_result"
    }
   ],
   "source": [
    "#We can select only some measures and convert results into a pandas data frame\n",
    "DC = distinctiveness(G, alpha = 1, normalize = False, measures = [\"D1\",\"D2\"])\n",
    "DC = pd.DataFrame(DC).sort_index()\n",
    "DC"
   ]
  },
  {
   "cell_type": "markdown",
   "metadata": {},
   "source": [
    "When alpha > 1, negative values are possible."
   ]
  },
  {
   "cell_type": "code",
   "execution_count": 5,
   "metadata": {},
   "outputs": [
    {
     "data": {
      "text/html": [
       "<div>\n",
       "<style scoped>\n",
       "    .dataframe tbody tr th:only-of-type {\n",
       "        vertical-align: middle;\n",
       "    }\n",
       "\n",
       "    .dataframe tbody tr th {\n",
       "        vertical-align: top;\n",
       "    }\n",
       "\n",
       "    .dataframe thead th {\n",
       "        text-align: right;\n",
       "    }\n",
       "</style>\n",
       "<table border=\"1\" class=\"dataframe\">\n",
       "  <thead>\n",
       "    <tr style=\"text-align: right;\">\n",
       "      <th></th>\n",
       "      <th>D1</th>\n",
       "      <th>D2</th>\n",
       "      <th>D3</th>\n",
       "      <th>D4</th>\n",
       "      <th>D5</th>\n",
       "    </tr>\n",
       "  </thead>\n",
       "  <tbody>\n",
       "    <tr>\n",
       "      <th>A</th>\n",
       "      <td>2.48455</td>\n",
       "      <td>0.19382</td>\n",
       "      <td>6.192577</td>\n",
       "      <td>5.216216</td>\n",
       "      <td>1.0625</td>\n",
       "    </tr>\n",
       "    <tr>\n",
       "      <th>B</th>\n",
       "      <td>4.07631</td>\n",
       "      <td>0.98970</td>\n",
       "      <td>6.054572</td>\n",
       "      <td>5.827586</td>\n",
       "      <td>1.7500</td>\n",
       "    </tr>\n",
       "    <tr>\n",
       "      <th>C</th>\n",
       "      <td>-0.52575</td>\n",
       "      <td>-0.40824</td>\n",
       "      <td>2.697727</td>\n",
       "      <td>4.526561</td>\n",
       "      <td>0.3125</td>\n",
       "    </tr>\n",
       "    <tr>\n",
       "      <th>D</th>\n",
       "      <td>-0.52575</td>\n",
       "      <td>-0.40824</td>\n",
       "      <td>2.697727</td>\n",
       "      <td>4.526561</td>\n",
       "      <td>0.3125</td>\n",
       "    </tr>\n",
       "    <tr>\n",
       "      <th>E</th>\n",
       "      <td>0.48455</td>\n",
       "      <td>0.09691</td>\n",
       "      <td>3.116246</td>\n",
       "      <td>4.310345</td>\n",
       "      <td>0.2500</td>\n",
       "    </tr>\n",
       "    <tr>\n",
       "      <th>F</th>\n",
       "      <td>-2.52575</td>\n",
       "      <td>-0.50515</td>\n",
       "      <td>1.041380</td>\n",
       "      <td>3.378378</td>\n",
       "      <td>0.0625</td>\n",
       "    </tr>\n",
       "  </tbody>\n",
       "</table>\n",
       "</div>"
      ],
      "text/plain": [
       "        D1       D2        D3        D4      D5\n",
       "A  2.48455  0.19382  6.192577  5.216216  1.0625\n",
       "B  4.07631  0.98970  6.054572  5.827586  1.7500\n",
       "C -0.52575 -0.40824  2.697727  4.526561  0.3125\n",
       "D -0.52575 -0.40824  2.697727  4.526561  0.3125\n",
       "E  0.48455  0.09691  3.116246  4.310345  0.2500\n",
       "F -2.52575 -0.50515  1.041380  3.378378  0.0625"
      ]
     },
     "execution_count": 5,
     "metadata": {},
     "output_type": "execute_result"
    }
   ],
   "source": [
    "#Compute distinctiveness with alpha > 1\n",
    "DC = distinctiveness(G, alpha = 2, normalize = False, measures = [\"D1\",\"D2\",\"D3\",\"D4\",\"D5\"])\n",
    "DC = pd.DataFrame(DC).sort_index()\n",
    "DC"
   ]
  },
  {
   "cell_type": "markdown",
   "metadata": {},
   "source": [
    "It is possible to specify a different value of alpha for each of the metrics."
   ]
  },
  {
   "cell_type": "code",
   "execution_count": 6,
   "metadata": {},
   "outputs": [
    {
     "data": {
      "text/html": [
       "<div>\n",
       "<style scoped>\n",
       "    .dataframe tbody tr th:only-of-type {\n",
       "        vertical-align: middle;\n",
       "    }\n",
       "\n",
       "    .dataframe tbody tr th {\n",
       "        vertical-align: top;\n",
       "    }\n",
       "\n",
       "    .dataframe thead th {\n",
       "        text-align: right;\n",
       "    }\n",
       "</style>\n",
       "<table border=\"1\" class=\"dataframe\">\n",
       "  <thead>\n",
       "    <tr style=\"text-align: right;\">\n",
       "      <th></th>\n",
       "      <th>D1</th>\n",
       "      <th>D2</th>\n",
       "      <th>D3</th>\n",
       "      <th>D4</th>\n",
       "      <th>D5</th>\n",
       "    </tr>\n",
       "  </thead>\n",
       "  <tbody>\n",
       "    <tr>\n",
       "      <th>A</th>\n",
       "      <td>3.68867</td>\n",
       "      <td>0.19382</td>\n",
       "      <td>4.950958</td>\n",
       "      <td>5.047548</td>\n",
       "      <td>1.000977</td>\n",
       "    </tr>\n",
       "    <tr>\n",
       "      <th>B</th>\n",
       "      <td>5.88249</td>\n",
       "      <td>0.98970</td>\n",
       "      <td>1.942189</td>\n",
       "      <td>5.149766</td>\n",
       "      <td>1.093750</td>\n",
       "    </tr>\n",
       "    <tr>\n",
       "      <th>C</th>\n",
       "      <td>2.18352</td>\n",
       "      <td>-0.40824</td>\n",
       "      <td>0.179746</td>\n",
       "      <td>4.922743</td>\n",
       "      <td>0.032227</td>\n",
       "    </tr>\n",
       "    <tr>\n",
       "      <th>D</th>\n",
       "      <td>2.18352</td>\n",
       "      <td>-0.40824</td>\n",
       "      <td>0.179746</td>\n",
       "      <td>4.922743</td>\n",
       "      <td>0.032227</td>\n",
       "    </tr>\n",
       "    <tr>\n",
       "      <th>E</th>\n",
       "      <td>1.98970</td>\n",
       "      <td>0.09691</td>\n",
       "      <td>1.839884</td>\n",
       "      <td>4.875195</td>\n",
       "      <td>0.031250</td>\n",
       "    </tr>\n",
       "    <tr>\n",
       "      <th>F</th>\n",
       "      <td>0.48455</td>\n",
       "      <td>-0.50515</td>\n",
       "      <td>-0.378604</td>\n",
       "      <td>4.643388</td>\n",
       "      <td>0.000977</td>\n",
       "    </tr>\n",
       "  </tbody>\n",
       "</table>\n",
       "</div>"
      ],
      "text/plain": [
       "        D1       D2        D3        D4        D5\n",
       "A  3.68867  0.19382  4.950958  5.047548  1.000977\n",
       "B  5.88249  0.98970  1.942189  5.149766  1.093750\n",
       "C  2.18352 -0.40824  0.179746  4.922743  0.032227\n",
       "D  2.18352 -0.40824  0.179746  4.922743  0.032227\n",
       "E  1.98970  0.09691  1.839884  4.875195  0.031250\n",
       "F  0.48455 -0.50515 -0.378604  4.643388  0.000977"
      ]
     },
     "execution_count": 6,
     "metadata": {},
     "output_type": "execute_result"
    }
   ],
   "source": [
    "DC = distinctiveness(G, alpha = [1, 2, 3, 4, 5], normalize = False, measures = [\"D1\",\"D2\",\"D3\",\"D4\",\"D5\"])\n",
    "DC = pd.DataFrame(DC).sort_index()\n",
    "DC"
   ]
  },
  {
   "cell_type": "markdown",
   "metadata": {},
   "source": [
    "Metrics can be normalized to allow a comparison between different networks."
   ]
  },
  {
   "cell_type": "code",
   "execution_count": 7,
   "metadata": {},
   "outputs": [
    {
     "name": "stdout",
     "output_type": "stream",
     "text": [
      "WARNING. Normalization of D3 is carried out using loose upper and lower bounds.\n"
     ]
    },
    {
     "data": {
      "text/plain": [
       "{'A': 0.5710917507082571,\n",
       " 'E': 0.5138646883853214,\n",
       " 'B': 0.6166376260623857,\n",
       " 'F': 0.4277293767706428,\n",
       " 'C': 0.48495643909357844,\n",
       " 'D': 0.48495643909357844}"
      ]
     },
     "execution_count": 7,
     "metadata": {},
     "output_type": "execute_result"
    }
   ],
   "source": [
    "#When alpha > 1 negative values are possible\n",
    "DC = distinctiveness(G, alpha = 2, normalize = True, measures = [\"D1\",\"D2\",\"D3\",\"D4\",\"D5\"])\n",
    "\n",
    "#Select one metric\n",
    "D1 = DC[\"D1\"]\n",
    "D1"
   ]
  },
  {
   "cell_type": "markdown",
   "metadata": {},
   "source": [
    "### Directed graphs"
   ]
  },
  {
   "cell_type": "code",
   "execution_count": 8,
   "metadata": {},
   "outputs": [
    {
     "data": {
      "text/plain": [
       "{('A', 'E'): Text(-0.022446493930112818, -0.7221578854322187, '5'),\n",
       " ('A', 'B'): Text(0.10694281664338864, -0.5149072721523582, '6'),\n",
       " ('B', 'A'): Text(-0.004820070350523092, -0.6090438532343383, '2'),\n",
       " ('B', 'F'): Text(0.32236493558490875, -0.03865722319016572, '5'),\n",
       " ('B', 'C'): Text(0.14419905202881278, 0.25495168970436444, '2'),\n",
       " ('B', 'D'): Text(-0.20016717043721216, 0.4693463560046407, '2'),\n",
       " ('C', 'D'): Text(-0.32434686283881176, 0.8570702224664825, '3'),\n",
       " ('D', 'C'): Text(-0.20955812201680343, 0.7856053336997237, '5')}"
      ]
     },
     "execution_count": 8,
     "metadata": {},
     "output_type": "execute_result"
    },
    {
     "data": {
      "image/png": "[encoded data removed]",
      "text/plain": [
       "<Figure size 432x288 with 1 Axes>"
      ]
     },
     "metadata": {},
     "output_type": "display_data"
    }
   ],
   "source": [
    "#Create a Toy Network\n",
    "G= nx.DiGraph()\n",
    "G.add_edge(\"A\",\"E\", weight = 5)\n",
    "G.add_edge(\"A\",\"B\", weight = 6)\n",
    "G.add_edge(\"B\",\"A\", weight = 2)\n",
    "G.add_edge(\"B\",\"F\", weight = 5)\n",
    "G.add_edge(\"B\",\"C\", weight = 2)\n",
    "G.add_edge(\"B\",\"D\", weight = 2)\n",
    "G.add_edge(\"C\",\"D\", weight = 3)\n",
    "G.add_edge(\"D\",\"C\", weight = 5)\n",
    "pos = nx.spiral_layout(G)\n",
    "labels = nx.get_edge_attributes(G,'weight')\n",
    "nx.draw(G,pos=pos,with_labels = True,node_color='#00c0ff')\n",
    "nx.draw_networkx_edge_labels(G,pos,edge_labels=labels, label_pos=0.4)"
   ]
  },
  {
   "cell_type": "code",
   "execution_count": 9,
   "metadata": {},
   "outputs": [
    {
     "data": {
      "text/html": [
       "<div>\n",
       "<style scoped>\n",
       "    .dataframe tbody tr th:only-of-type {\n",
       "        vertical-align: middle;\n",
       "    }\n",
       "\n",
       "    .dataframe tbody tr th {\n",
       "        vertical-align: top;\n",
       "    }\n",
       "\n",
       "    .dataframe thead th {\n",
       "        text-align: right;\n",
       "    }\n",
       "</style>\n",
       "<table border=\"1\" class=\"dataframe\">\n",
       "  <thead>\n",
       "    <tr style=\"text-align: right;\">\n",
       "      <th></th>\n",
       "      <th>D1_in</th>\n",
       "      <th>D2_in</th>\n",
       "      <th>D3_in</th>\n",
       "      <th>D4_in</th>\n",
       "      <th>D5_in</th>\n",
       "      <th>D1_out</th>\n",
       "      <th>D2_out</th>\n",
       "      <th>D3_out</th>\n",
       "      <th>D4_out</th>\n",
       "      <th>D5_out</th>\n",
       "    </tr>\n",
       "  </thead>\n",
       "  <tbody>\n",
       "    <tr>\n",
       "      <th>A</th>\n",
       "      <td>-1.01030</td>\n",
       "      <td>-0.50515</td>\n",
       "      <td>-0.108715</td>\n",
       "      <td>0.216216</td>\n",
       "      <td>0.0625</td>\n",
       "      <td>7.68867</td>\n",
       "      <td>1.39794</td>\n",
       "      <td>16.248334</td>\n",
       "      <td>11.000000</td>\n",
       "      <td>2.00</td>\n",
       "    </tr>\n",
       "    <tr>\n",
       "      <th>B</th>\n",
       "      <td>0.58146</td>\n",
       "      <td>0.09691</td>\n",
       "      <td>0.372887</td>\n",
       "      <td>3.540984</td>\n",
       "      <td>0.2500</td>\n",
       "      <td>5.28043</td>\n",
       "      <td>1.59176</td>\n",
       "      <td>11.418387</td>\n",
       "      <td>7.891247</td>\n",
       "      <td>2.50</td>\n",
       "    </tr>\n",
       "    <tr>\n",
       "      <th>C</th>\n",
       "      <td>2.48455</td>\n",
       "      <td>0.19382</td>\n",
       "      <td>7.276891</td>\n",
       "      <td>5.216216</td>\n",
       "      <td>1.0625</td>\n",
       "      <td>0.29073</td>\n",
       "      <td>0.09691</td>\n",
       "      <td>2.334454</td>\n",
       "      <td>2.076923</td>\n",
       "      <td>0.25</td>\n",
       "    </tr>\n",
       "    <tr>\n",
       "      <th>D</th>\n",
       "      <td>1.08661</td>\n",
       "      <td>0.19382</td>\n",
       "      <td>4.322648</td>\n",
       "      <td>3.216216</td>\n",
       "      <td>1.0625</td>\n",
       "      <td>0.48455</td>\n",
       "      <td>0.09691</td>\n",
       "      <td>3.890756</td>\n",
       "      <td>4.310345</td>\n",
       "      <td>0.25</td>\n",
       "    </tr>\n",
       "    <tr>\n",
       "      <th>E</th>\n",
       "      <td>0.48455</td>\n",
       "      <td>0.09691</td>\n",
       "      <td>-0.455402</td>\n",
       "      <td>2.049180</td>\n",
       "      <td>0.2500</td>\n",
       "      <td>0.00000</td>\n",
       "      <td>0.00000</td>\n",
       "      <td>0.000000</td>\n",
       "      <td>0.000000</td>\n",
       "      <td>0.00</td>\n",
       "    </tr>\n",
       "    <tr>\n",
       "      <th>F</th>\n",
       "      <td>-2.52575</td>\n",
       "      <td>-0.50515</td>\n",
       "      <td>1.815890</td>\n",
       "      <td>3.378378</td>\n",
       "      <td>0.0625</td>\n",
       "      <td>0.00000</td>\n",
       "      <td>0.00000</td>\n",
       "      <td>0.000000</td>\n",
       "      <td>0.000000</td>\n",
       "      <td>0.00</td>\n",
       "    </tr>\n",
       "  </tbody>\n",
       "</table>\n",
       "</div>"
      ],
      "text/plain": [
       "     D1_in    D2_in     D3_in     D4_in   D5_in   D1_out   D2_out     D3_out  \\\n",
       "A -1.01030 -0.50515 -0.108715  0.216216  0.0625  7.68867  1.39794  16.248334   \n",
       "B  0.58146  0.09691  0.372887  3.540984  0.2500  5.28043  1.59176  11.418387   \n",
       "C  2.48455  0.19382  7.276891  5.216216  1.0625  0.29073  0.09691   2.334454   \n",
       "D  1.08661  0.19382  4.322648  3.216216  1.0625  0.48455  0.09691   3.890756   \n",
       "E  0.48455  0.09691 -0.455402  2.049180  0.2500  0.00000  0.00000   0.000000   \n",
       "F -2.52575 -0.50515  1.815890  3.378378  0.0625  0.00000  0.00000   0.000000   \n",
       "\n",
       "      D4_out  D5_out  \n",
       "A  11.000000    2.00  \n",
       "B   7.891247    2.50  \n",
       "C   2.076923    0.25  \n",
       "D   4.310345    0.25  \n",
       "E   0.000000    0.00  \n",
       "F   0.000000    0.00  "
      ]
     },
     "execution_count": 9,
     "metadata": {},
     "output_type": "execute_result"
    }
   ],
   "source": [
    "#In directed graphs each metric has an '_in' and '_out' suffix (see the docs)\n",
    "DC = distinctiveness(G, alpha = 2, normalize = False, measures = [\"D1\",\"D2\",\"D3\",\"D4\",\"D5\"])\n",
    "DC = pd.DataFrame(DC).sort_index()\n",
    "DC"
   ]
  }
 ],
 "metadata": {
  "kernelspec": {
   "display_name": "Python 3",
   "language": "python",
   "name": "python3"
  },
  "language_info": {
   "codemirror_mode": {
    "name": "ipython",
    "version": 3
   },
   "file_extension": ".py",
   "mimetype": "text/x-python",
   "name": "python",
   "nbconvert_exporter": "python",
   "pygments_lexer": "ipython3",
   "version": "3.7.4"
  }
 },
 "nbformat": 4,
 "nbformat_minor": 2
}
