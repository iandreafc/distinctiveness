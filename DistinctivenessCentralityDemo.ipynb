{
 "cells": [
  {
   "cell_type": "markdown",
   "metadata": {},
   "source": [
    "## Quick Start Tutorial - Distinctiveness Centrality (Python)\n",
    "**More info here https://github.com/iandreafc/distinctiveness-centrality**"
   ]
  },
  {
   "cell_type": "markdown",
   "metadata": {},
   "source": [
    "### Installation\n",
    "``` python\n",
    "pip install distinctiveness\n",
    "```"
   ]
  },
  {
   "cell_type": "code",
   "execution_count": 1,
   "metadata": {},
   "outputs": [],
   "source": [
    "# Import\n",
    "from distinctiveness.dc import dc_all\n",
    "\n",
    "#Import Networkx and Pandas\n",
    "import networkx as nx\n",
    "import pandas as pd"
   ]
  },
  {
   "cell_type": "markdown",
   "metadata": {},
   "source": [
    "### Undirected graphs"
   ]
  },
  {
   "cell_type": "code",
   "execution_count": 2,
   "metadata": {},
   "outputs": [
    {
     "data": {
      "text/plain": [
       "{('A', 'E'): Text(-0.7912955771199095, -0.031211611782127602, '5'),\n",
       " ('A', 'B'): Text(-0.2155349074165191, 0.03925553892069393, '2'),\n",
       " ('B', 'F'): Text(0.18599700436678585, 0.29427771629287836, '5'),\n",
       " ('B', 'C'): Text(0.3286643784753497, -0.15190341796368306, '2'),\n",
       " ('B', 'D'): Text(0.4281555336845552, -0.030591050743929885, '2'),\n",
       " ('C', 'D'): Text(0.6052985727531239, -0.26306610451075046, '5')}"
      ]
     },
     "execution_count": 2,
     "metadata": {},
     "output_type": "execute_result"
    }
   ],
   "source": [
    "#Create a Toy Network\n",
    "G= nx.Graph()\n",
    "G.add_edge(\"A\",\"E\", weight = 5)\n",
    "G.add_edge(\"A\",\"B\", weight = 2)\n",
    "G.add_edge(\"B\",\"F\", weight = 5)\n",
    "G.add_edge(\"B\",\"C\", weight = 2)\n",
    "G.add_edge(\"B\",\"D\", weight = 2)\n",
    "G.add_edge(\"C\",\"D\", weight = 5)\n",
    "pos = nx.spring_layout(G)\n",
    "labels = nx.get_edge_attributes(G,'weight')\n",
    "nx.draw(G,pos=pos,with_labels = True,node_color='#00c0ff')\n",
    "nx.draw_networkx_edge_labels(G,pos,edge_labels=labels)"
   ]
  },
  {
   "cell_type": "code",
   "execution_count": 3,
   "metadata": {},
   "outputs": [
    {
     "data": {
      "text/plain": [
       "{'D1': {'A': 0.19382002601611284,\n",
       "  'E': 1.989700043360188,\n",
       "  'B': 0.7958800173440752,\n",
       "  'F': 0.4845500650402821,\n",
       "  'C': 1.989700043360188,\n",
       "  'D': 1.989700043360188},\n",
       " 'D2': {'A': 0.09691001300805642,\n",
       "  'E': 0.3979400086720376,\n",
       "  'B': 0.3979400086720376,\n",
       "  'F': 0.09691001300805642,\n",
       "  'C': 0.3979400086720376,\n",
       "  'D': 0.3979400086720376},\n",
       " 'D3': {'A': 0.6444385894678386,\n",
       "  'E': 4.225490200071284,\n",
       "  'B': 1.0881360887005513,\n",
       "  'F': 2.385606273598312,\n",
       "  'C': 4.225490200071284,\n",
       "  'D': 4.225490200071284},\n",
       " 'D4': {'A': 0.36363636363636365,\n",
       "  'E': 3.5714285714285716,\n",
       "  'B': 0.5714285714285714,\n",
       "  'F': 2.2727272727272725,\n",
       "  'C': 3.5714285714285716,\n",
       "  'D': 3.5714285714285716},\n",
       " 'D5': {'A': 0.25, 'E': 0.5, 'B': 0.5, 'F': 0.25, 'C': 0.5, 'D': 0.5},\n",
       " 'D1_in': nan,\n",
       " 'D2_in': nan,\n",
       " 'D3_in': nan,\n",
       " 'D4_in': nan,\n",
       " 'D5_in': nan,\n",
       " 'D1_out': nan,\n",
       " 'D2_out': nan,\n",
       " 'D3_out': nan,\n",
       " 'D4_out': nan,\n",
       " 'D5_out': nan}"
      ]
     },
     "execution_count": 3,
     "metadata": {},
     "output_type": "execute_result"
    }
   ],
   "source": [
    "#Calculate the 5 metrics of Distinctiveness Centrality\n",
    "#If normalized == True, values are divided by their upper bound, to allow a comparison with different networks\n",
    "#alpha is a coefficient that can be chosen to penalize more connections with high-degree nodes, default is alpha = 1\n",
    "DC = dc_all(G, normalize = False, alpha = 1)\n",
    "DC"
   ]
  },
  {
   "cell_type": "code",
   "execution_count": 4,
   "metadata": {},
   "outputs": [
    {
     "data": {
      "text/plain": [
       "{'A': -0.05781649858348577,\n",
       " 'E': 0.02772937677064278,\n",
       " 'B': 0.011091750708257112,\n",
       " 'F': -0.1445412464587144,\n",
       " 'C': 0.02772937677064278,\n",
       " 'D': 0.02772937677064278}"
      ]
     },
     "execution_count": 4,
     "metadata": {},
     "output_type": "execute_result"
    }
   ],
   "source": [
    "#When alpha > 1 negative values are possible\n",
    "DC = dc_all(G, normalize = True, alpha = 2)\n",
    "#Select one metric\n",
    "D1 = DC[\"D1\"]\n",
    "D1"
   ]
  },
  {
   "cell_type": "markdown",
   "metadata": {},
   "source": [
    "### Directed graphs"
   ]
  },
  {
   "cell_type": "code",
   "execution_count": 5,
   "metadata": {},
   "outputs": [
    {
     "data": {
      "text/plain": [
       "{('A', 'E'): Text(-0.022446493930112818, -0.7221578854322187, '5'),\n",
       " ('A', 'B'): Text(0.10694281664338864, -0.5149072721523582, '6'),\n",
       " ('B', 'A'): Text(-0.004820070350523092, -0.6090438532343383, '2'),\n",
       " ('B', 'F'): Text(0.32236493558490875, -0.03865722319016572, '5'),\n",
       " ('B', 'C'): Text(0.14419905202881278, 0.25495168970436444, '2'),\n",
       " ('B', 'D'): Text(-0.20016717043721216, 0.4693463560046407, '2'),\n",
       " ('C', 'D'): Text(-0.32434686283881176, 0.8570702224664825, '3'),\n",
       " ('D', 'C'): Text(-0.20955812201680343, 0.7856053336997237, '5')}"
      ]
     },
     "execution_count": 5,
     "metadata": {},
     "output_type": "execute_result"
    },
    {
     "data": {
      "image/png": "[encoded data removed]",
      "text/plain": [
       "<Figure size 432x288 with 1 Axes>"
      ]
     },
     "metadata": {},
     "output_type": "display_data"
    }
   ],
   "source": [
    "#Create a Toy Network\n",
    "G= nx.DiGraph()\n",
    "G.add_edge(\"A\",\"E\", weight = 5)\n",
    "G.add_edge(\"A\",\"B\", weight = 6)\n",
    "G.add_edge(\"B\",\"A\", weight = 2)\n",
    "G.add_edge(\"B\",\"F\", weight = 5)\n",
    "G.add_edge(\"B\",\"C\", weight = 2)\n",
    "G.add_edge(\"B\",\"D\", weight = 2)\n",
    "G.add_edge(\"C\",\"D\", weight = 3)\n",
    "G.add_edge(\"D\",\"C\", weight = 5)\n",
    "pos = nx.spiral_layout(G)\n",
    "labels = nx.get_edge_attributes(G,'weight')\n",
    "nx.draw(G,pos=pos,with_labels = True,node_color='#00c0ff')\n",
    "nx.draw_networkx_edge_labels(G,pos,edge_labels=labels, label_pos=0.4)"
   ]
  },
  {
   "cell_type": "code",
   "execution_count": 6,
   "metadata": {},
   "outputs": [
    {
     "data": {
      "text/html": [
       "<div>\n",
       "<style scoped>\n",
       "    .dataframe tbody tr th:only-of-type {\n",
       "        vertical-align: middle;\n",
       "    }\n",
       "\n",
       "    .dataframe tbody tr th {\n",
       "        vertical-align: top;\n",
       "    }\n",
       "\n",
       "    .dataframe thead th {\n",
       "        text-align: right;\n",
       "    }\n",
       "</style>\n",
       "<table border=\"1\" class=\"dataframe\">\n",
       "  <thead>\n",
       "    <tr style=\"text-align: right;\">\n",
       "      <th></th>\n",
       "      <th>D1</th>\n",
       "      <th>D2</th>\n",
       "      <th>D3</th>\n",
       "      <th>D4</th>\n",
       "      <th>D5</th>\n",
       "      <th>D1_in</th>\n",
       "      <th>D2_in</th>\n",
       "      <th>D3_in</th>\n",
       "      <th>D4_in</th>\n",
       "      <th>D5_in</th>\n",
       "      <th>D1_out</th>\n",
       "      <th>D2_out</th>\n",
       "      <th>D3_out</th>\n",
       "      <th>D4_out</th>\n",
       "      <th>D5_out</th>\n",
       "    </tr>\n",
       "  </thead>\n",
       "  <tbody>\n",
       "    <tr>\n",
       "      <td>A</td>\n",
       "      <td>NaN</td>\n",
       "      <td>NaN</td>\n",
       "      <td>NaN</td>\n",
       "      <td>NaN</td>\n",
       "      <td>NaN</td>\n",
       "      <td>-1.01030</td>\n",
       "      <td>-0.50515</td>\n",
       "      <td>-1.189522</td>\n",
       "      <td>0.066116</td>\n",
       "      <td>0.0625</td>\n",
       "      <td>4.19382</td>\n",
       "      <td>0.69897</td>\n",
       "      <td>8.862728</td>\n",
       "      <td>6.00000</td>\n",
       "      <td>1.00</td>\n",
       "    </tr>\n",
       "    <tr>\n",
       "      <td>B</td>\n",
       "      <td>NaN</td>\n",
       "      <td>NaN</td>\n",
       "      <td>NaN</td>\n",
       "      <td>NaN</td>\n",
       "      <td>NaN</td>\n",
       "      <td>0.58146</td>\n",
       "      <td>0.09691</td>\n",
       "      <td>-2.744263</td>\n",
       "      <td>1.785124</td>\n",
       "      <td>0.2500</td>\n",
       "      <td>0.19382</td>\n",
       "      <td>0.09691</td>\n",
       "      <td>0.269397</td>\n",
       "      <td>0.32000</td>\n",
       "      <td>0.25</td>\n",
       "    </tr>\n",
       "    <tr>\n",
       "      <td>C</td>\n",
       "      <td>NaN</td>\n",
       "      <td>NaN</td>\n",
       "      <td>NaN</td>\n",
       "      <td>NaN</td>\n",
       "      <td>NaN</td>\n",
       "      <td>3.49485</td>\n",
       "      <td>0.69897</td>\n",
       "      <td>7.385606</td>\n",
       "      <td>5.000000</td>\n",
       "      <td>1.0000</td>\n",
       "      <td>0.29073</td>\n",
       "      <td>0.09691</td>\n",
       "      <td>0.740017</td>\n",
       "      <td>1.08000</td>\n",
       "      <td>0.25</td>\n",
       "    </tr>\n",
       "    <tr>\n",
       "      <td>D</td>\n",
       "      <td>NaN</td>\n",
       "      <td>NaN</td>\n",
       "      <td>NaN</td>\n",
       "      <td>NaN</td>\n",
       "      <td>NaN</td>\n",
       "      <td>2.09691</td>\n",
       "      <td>0.69897</td>\n",
       "      <td>4.431364</td>\n",
       "      <td>3.000000</td>\n",
       "      <td>1.0000</td>\n",
       "      <td>0.48455</td>\n",
       "      <td>0.09691</td>\n",
       "      <td>0.395906</td>\n",
       "      <td>2.55102</td>\n",
       "      <td>0.25</td>\n",
       "    </tr>\n",
       "    <tr>\n",
       "      <td>E</td>\n",
       "      <td>NaN</td>\n",
       "      <td>NaN</td>\n",
       "      <td>NaN</td>\n",
       "      <td>NaN</td>\n",
       "      <td>NaN</td>\n",
       "      <td>0.48455</td>\n",
       "      <td>0.09691</td>\n",
       "      <td>-2.548252</td>\n",
       "      <td>1.033058</td>\n",
       "      <td>0.2500</td>\n",
       "      <td>0.00000</td>\n",
       "      <td>0.00000</td>\n",
       "      <td>0.000000</td>\n",
       "      <td>0.00000</td>\n",
       "      <td>0.00</td>\n",
       "    </tr>\n",
       "    <tr>\n",
       "      <td>F</td>\n",
       "      <td>NaN</td>\n",
       "      <td>NaN</td>\n",
       "      <td>NaN</td>\n",
       "      <td>NaN</td>\n",
       "      <td>NaN</td>\n",
       "      <td>-2.52575</td>\n",
       "      <td>-0.50515</td>\n",
       "      <td>-2.548252</td>\n",
       "      <td>1.033058</td>\n",
       "      <td>0.0625</td>\n",
       "      <td>0.00000</td>\n",
       "      <td>0.00000</td>\n",
       "      <td>0.000000</td>\n",
       "      <td>0.00000</td>\n",
       "      <td>0.00</td>\n",
       "    </tr>\n",
       "  </tbody>\n",
       "</table>\n",
       "</div>"
      ],
      "text/plain": [
       "   D1  D2  D3  D4  D5    D1_in    D2_in     D3_in     D4_in   D5_in   D1_out  \\\n",
       "A NaN NaN NaN NaN NaN -1.01030 -0.50515 -1.189522  0.066116  0.0625  4.19382   \n",
       "B NaN NaN NaN NaN NaN  0.58146  0.09691 -2.744263  1.785124  0.2500  0.19382   \n",
       "C NaN NaN NaN NaN NaN  3.49485  0.69897  7.385606  5.000000  1.0000  0.29073   \n",
       "D NaN NaN NaN NaN NaN  2.09691  0.69897  4.431364  3.000000  1.0000  0.48455   \n",
       "E NaN NaN NaN NaN NaN  0.48455  0.09691 -2.548252  1.033058  0.2500  0.00000   \n",
       "F NaN NaN NaN NaN NaN -2.52575 -0.50515 -2.548252  1.033058  0.0625  0.00000   \n",
       "\n",
       "    D2_out    D3_out   D4_out  D5_out  \n",
       "A  0.69897  8.862728  6.00000    1.00  \n",
       "B  0.09691  0.269397  0.32000    0.25  \n",
       "C  0.09691  0.740017  1.08000    0.25  \n",
       "D  0.09691  0.395906  2.55102    0.25  \n",
       "E  0.00000  0.000000  0.00000    0.00  \n",
       "F  0.00000  0.000000  0.00000    0.00  "
      ]
     },
     "execution_count": 6,
     "metadata": {},
     "output_type": "execute_result"
    }
   ],
   "source": [
    "#In directed graphs each metric has an '_in' and '_out' suffix (see the docs)\n",
    "DC = dc_all(G, normalize = False, alpha = 2)\n",
    "DC = pd.DataFrame(DC).sort_index()\n",
    "DC"
   ]
  }
 ],
 "metadata": {
  "kernelspec": {
   "display_name": "Python 3",
   "language": "python",
   "name": "python3"
  },
  "language_info": {
   "codemirror_mode": {
    "name": "ipython",
    "version": 3
   },
   "file_extension": ".py",
   "mimetype": "text/x-python",
   "name": "python",
   "nbconvert_exporter": "python",
   "pygments_lexer": "ipython3",
   "version": "3.7.4"
  }
 },
 "nbformat": 4,
 "nbformat_minor": 2
}
